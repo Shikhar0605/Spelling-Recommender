{
 "cells": [
  {
   "cell_type": "markdown",
   "metadata": {},
   "source": [
    "# Spelling Recommender\n",
    "\n",
    "Creating three different spelling recommenders, that each take a list of misspelled words and recommends a correctly spelled word for every word in the list.\n",
    "\n",
    "For every misspelled word, the recommender find the word in correct_spellings that has the shortest distance*, and starts with the same letter as the misspelled word, and return that word as a recommendation.\n",
    "\n",
    "Each of the three different recommenders use a different distance measure\n",
    "\n",
    "1.Jaccard distance on the trigrams of the two words.\n",
    "\n",
    "2.Jaccard distance on the 4-grams of the two words.\n",
    "\n",
    "3.By editing distance on the two words with transpositions.\n",
    "\n",
    "Each of the recommenders provide recommendations for the three default words provided: ['cormulent', 'incendenece', 'validrate']."
   ]
  },
  {
   "cell_type": "code",
   "execution_count": 1,
   "metadata": {},
   "outputs": [],
   "source": [
    "import nltk\n",
    "import pandas as pd\n",
    "import numpy as np"
   ]
  },
  {
   "cell_type": "code",
   "execution_count": null,
   "metadata": {
    "collapsed": true
   },
   "outputs": [],
   "source": [
    "from nltk.corpus import words\n",
    "\n",
    "correct_spellings = words.words()"
   ]
  },
  {
   "cell_type": "markdown",
   "metadata": {},
   "source": [
    "### Recommender 1\n",
    "This recommender,provide recommendations for the three default words provided above using the following distance metric:\n",
    "**Jaccard distance on the trigrams of the two words.**"
   ]
  },
  {
   "cell_type": "code",
   "execution_count": 16,
   "metadata": {},
   "outputs": [
    {
     "data": {
      "text/plain": [
       "['corpulent', 'indecence', 'validate']"
      ]
     },
     "execution_count": 16,
     "metadata": {},
     "output_type": "execute_result"
    }
   ],
   "source": [
    "def recommender1(entries=['cormulent', 'incendenece', 'validrate']):\n",
    "    \n",
    "    recommendations = []\n",
    "    for misspelled_word in entries:\n",
    "        sub_dictionary = [words for words in correct_spellings if words[0] == misspelled_word[0]]\n",
    "        \n",
    "        recommendation = [(nltk.jaccard_distance(set(nltk.ngrams(misspelled_word, n = 3)), set(nltk.ngrams(x, n = 3))), x) for x in sub_dictionary]\n",
    "        \n",
    "        recommendations.append(sorted(recommendation)[0][1])\n",
    "            \n",
    "    return recommendations\n",
    "    \n",
    "recommender1()"
   ]
  },
  {
   "cell_type": "markdown",
   "metadata": {},
   "source": [
    "### Recommender 2\n",
    "\n",
    "This recommender,provide recommendations for the three default words provided above using the following distance metric:\n",
    "**Jaccard distance on the 4-grams of the two words.**"
   ]
  },
  {
   "cell_type": "code",
   "execution_count": 17,
   "metadata": {},
   "outputs": [
    {
     "data": {
      "text/plain": [
       "['cormus', 'incendiary', 'valid']"
      ]
     },
     "execution_count": 17,
     "metadata": {},
     "output_type": "execute_result"
    }
   ],
   "source": [
    "def recommender2(entries=['cormulent', 'incendenece', 'validrate']):\n",
    "    \n",
    "    recommendations = []\n",
    "    for misspelled_word in entries:\n",
    "        sub_dictionary = [words for words in correct_spellings if words[0] == misspelled_word[0]]\n",
    "        \n",
    "        recommendation = [(nltk.jaccard_distance(set(nltk.ngrams(misspelled_word, n = 4)), set(nltk.ngrams(x, n = 4))), x) for x in sub_dictionary]\n",
    "        \n",
    "        recommendations.append(sorted(recommendation)[0][1])\n",
    "    return recommendations\n",
    "    \n",
    "recommender2()"
   ]
  },
  {
   "cell_type": "markdown",
   "metadata": {},
   "source": [
    "### Recommender  3\n",
    "\n",
    "This recommender,provide recommendations for the three default words provided above using the following distance metric:\n",
    "**By editing distance on the two words with transpositions.**"
   ]
  },
  {
   "cell_type": "code",
   "execution_count": 18,
   "metadata": {},
   "outputs": [
    {
     "data": {
      "text/plain": [
       "['corpulent', 'intendence', 'validate']"
      ]
     },
     "execution_count": 18,
     "metadata": {},
     "output_type": "execute_result"
    }
   ],
   "source": [
    "def recommender3(entries=['cormulent', 'incendenece', 'validrate']):\n",
    "\n",
    "    recommendations = []\n",
    "    for misspelled_word in entries:\n",
    "        sub_dictionary = [words for words in correct_spellings if words[0] == misspelled_word[0]]\n",
    "        \n",
    "        recommendation = [(nltk.edit_distance(misspelled_word, x, transpositions = True), x) for x in sub_dictionary]\n",
    "        \n",
    "        recommendations.append(sorted(recommendation)[0][1])\n",
    "    return recommendations \n",
    "    \n",
    "recommender3()"
   ]
  },
  {
   "cell_type": "code",
   "execution_count": null,
   "metadata": {
    "collapsed": true
   },
   "outputs": [],
   "source": []
  }
 ],
 "metadata": {
  "coursera": {
   "course_slug": "python-text-mining",
   "graded_item_id": "r35En",
   "launcher_item_id": "tCVfW",
   "part_id": "NTVgL"
  },
  "kernelspec": {
   "display_name": "Python 3",
   "language": "python",
   "name": "python3"
  },
  "language_info": {
   "codemirror_mode": {
    "name": "ipython",
    "version": 3
   },
   "file_extension": ".py",
   "mimetype": "text/x-python",
   "name": "python",
   "nbconvert_exporter": "python",
   "pygments_lexer": "ipython3",
   "version": "3.6.9"
  }
 },
 "nbformat": 4,
 "nbformat_minor": 2
}
